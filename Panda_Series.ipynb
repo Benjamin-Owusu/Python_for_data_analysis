{
 "cells": [
  {
   "cell_type": "markdown",
   "id": "f3d0bf39-43ad-4981-a28f-86a47521988d",
   "metadata": {
    "tags": []
   },
   "source": [
    "## Panda Data structures\n",
    "The two workhorse of panda data structures are **Series** and **DataFrame**. It is important to understand these two in order to work effectively with pandas. In what follows below we will take a look at Panda series with practical examples/applications\n"
   ]
  },
  {
   "cell_type": "markdown",
   "id": "5ad85f3c-4a8b-47e9-af48-cb0bdfc9ff08",
   "metadata": {},
   "source": [
    "### Panda Series\n",
    "A panda series is a 1-dimensional array containing a sequence of values(of the same type for istance intergers, floats, strings etc) and an index. The below provides the usefullness of panda series\n",
    "\n",
    "- Panda series are utilized for data Analysis. They are quite fundamental for data analysis tasks. They allow for efficient performance of operations on data.\n",
    "- They  provide methods to handle and clean data, making it easier to prepare data for analysis.\n",
    "- They allow for  easily manipulation of data, such as changing values, renaming indices, and more.\n",
    "- Integration: Series integrate seamlessly with other pandas data structures, like DataFrames, making it easy to work with big and complex datasets."
   ]
  },
  {
   "cell_type": "markdown",
   "id": "de9ba857-a9c9-47df-ba4b-2c55390c3ca8",
   "metadata": {},
   "source": [
    "#### Characteristics of a Pandas Series\n",
    "- Each element in a Series has a unique label (index), which can be used to access the data. This index can be numeric or a string.\n",
    "- A Series can hold various data types, including integers, floats, strings, and even Python objects.\n",
    "- You can perform various operations on Series, such as arithmetic operations, filtering, and more, using the index to align data.\n",
    "\n",
    "\n",
    "\n"
   ]
  },
  {
   "cell_type": "markdown",
   "id": "e384f85e-52bf-4fab-8c83-a6c8d7e73023",
   "metadata": {},
   "source": [
    "We begin by importing the relevant libraries. We will use panda library in python."
   ]
  },
  {
   "cell_type": "code",
   "execution_count": 89,
   "id": "2e809d4a-f73d-4797-a71d-db1a3af18fc6",
   "metadata": {
    "tags": []
   },
   "outputs": [],
   "source": [
    "import pandas as pd\n"
   ]
  },
  {
   "cell_type": "markdown",
   "id": "7b6c2b00-5980-48a7-8e50-5efc8288dca9",
   "metadata": {},
   "source": [
    "We will create a simple panda series made up of 7 numbers just chosen at random"
   ]
  },
  {
   "cell_type": "code",
   "execution_count": 90,
   "id": "907e6bce-2f83-4838-9bc7-eb7134b8b717",
   "metadata": {
    "tags": []
   },
   "outputs": [
    {
     "data": {
      "text/plain": [
       "0    1\n",
       "1    3\n",
       "2    5\n",
       "3    6\n",
       "4    7\n",
       "5    8\n",
       "dtype: int64"
      ]
     },
     "execution_count": 90,
     "metadata": {},
     "output_type": "execute_result"
    }
   ],
   "source": [
    "data_a = pd.Series([1,3,5,6,7,8])\n",
    "data_a"
   ]
  },
  {
   "cell_type": "markdown",
   "id": "02b02d46-72ee-4f04-a782-2e74e3cc347c",
   "metadata": {
    "tags": []
   },
   "source": [
    "Note from the above output that the numbers beginning from 0 to 5 on the left column represent the index, whilst the values are generated on the right. Each value is assigned an index which begins from 0.\n",
    "The data type is integer "
   ]
  },
  {
   "cell_type": "markdown",
   "id": "cd7b89e5-632e-43a6-86bd-22d49b161f4b",
   "metadata": {
    "tags": []
   },
   "source": [
    "We can aslo assign the index of our choice to the data as displayed below. In this case, we have decided to use \"strings\" as index. I will show you two ways of doing this.\n",
    "\n",
    "&nbsp;With the first approach, we will use the \"index\" command to assign our string indexes in the brackes as shown below"
   ]
  },
  {
   "cell_type": "code",
   "execution_count": 91,
   "id": "fadd34ed-0b7c-429f-90ee-6fd0c0454ecf",
   "metadata": {
    "tags": []
   },
   "outputs": [
    {
     "data": {
      "text/plain": [
       "e    1\n",
       "f    3\n",
       "g    5\n",
       "h    6\n",
       "i    7\n",
       "j    8\n",
       "dtype: int64"
      ]
     },
     "execution_count": 91,
     "metadata": {},
     "output_type": "execute_result"
    }
   ],
   "source": [
    "data_b = pd.Series([1,3,5,6,7,8], index = [\"e\", \"f\", \"g\", \"h\", \"i\", \"j\"])\n",
    "data_b"
   ]
  },
  {
   "cell_type": "markdown",
   "id": "cb15e5bb-7d6d-4922-8006-368f970176dc",
   "metadata": {
    "tags": []
   },
   "source": [
    "\n",
    "\n",
    "Alternatively, we can create a series and assign our own indexes to the series using a dictionary-like structure as shown below.\n",
    "\n",
    "&nbsp;In the below, I decided to use the names of football teams as indeces and assigned each team with some random points (values)"
   ]
  },
  {
   "cell_type": "code",
   "execution_count": 92,
   "id": "54d579da-3164-48d2-b718-8c6412ab798d",
   "metadata": {
    "tags": []
   },
   "outputs": [
    {
     "data": {
      "text/plain": [
       "Arsenal       30\n",
       "Chelsea       22\n",
       "Dortmund      42\n",
       "Liverpool     29\n",
       "Bochum        15\n",
       "Schalke_04    15\n",
       "FC_Koln       18\n",
       "dtype: int64"
      ]
     },
     "execution_count": 92,
     "metadata": {},
     "output_type": "execute_result"
    }
   ],
   "source": [
    "data_c = pd.Series({\"Arsenal\": 30, \"Chelsea\":22, \"Dortmund\":42, \"Liverpool\":29, \"Bochum\":15, \"Schalke_04\":15, \"FC_Koln\":18} )\n",
    "data_c"
   ]
  },
  {
   "cell_type": "markdown",
   "id": "96c5d6eb-ed1b-4483-b9d0-8dab3ff1e53f",
   "metadata": {},
   "source": [
    "From above we can see all the teams (index) with their respective points. \n",
    "\n",
    "&nbsp;Once again the index can be verified with the scrit below"
   ]
  },
  {
   "cell_type": "code",
   "execution_count": 93,
   "id": "06eee562-c5b3-4b13-89ea-815ca352a166",
   "metadata": {
    "tags": []
   },
   "outputs": [
    {
     "data": {
      "text/plain": [
       "Index(['Arsenal', 'Chelsea', 'Dortmund', 'Liverpool', 'Bochum', 'Schalke_04',\n",
       "       'FC_Koln'],\n",
       "      dtype='object')"
      ]
     },
     "execution_count": 93,
     "metadata": {},
     "output_type": "execute_result"
    }
   ],
   "source": [
    "data_c.index"
   ]
  },
  {
   "cell_type": "markdown",
   "id": "f8ed172a-ff40-47e5-ad49-8cde75e78646",
   "metadata": {},
   "source": [
    "\n",
    "Now assuming we would like to slice or subset the Series. \n",
    "\n",
    "For instance, we may decide to find out how many points a particular team accumulated. Let's say we want to investigate the points accumulated by Chelsea"
   ]
  },
  {
   "cell_type": "code",
   "execution_count": 94,
   "id": "832277ea-483b-4f7c-b646-4088dc069a42",
   "metadata": {
    "tags": []
   },
   "outputs": [
    {
     "data": {
      "text/plain": [
       "22"
      ]
     },
     "execution_count": 94,
     "metadata": {},
     "output_type": "execute_result"
    }
   ],
   "source": [
    "data_c[\"Chelsea\"]"
   ]
  },
  {
   "cell_type": "markdown",
   "id": "c963455c-1f90-493a-9115-79f1e07142c9",
   "metadata": {},
   "source": [
    "Or better still assuming we want to ascertain the points for  two or more teams. For instance Dortmund, Bochum and Arsenal"
   ]
  },
  {
   "cell_type": "code",
   "execution_count": 95,
   "id": "da4597fa-ce7d-43d3-bfa2-73a0d4faa216",
   "metadata": {
    "tags": []
   },
   "outputs": [
    {
     "data": {
      "text/plain": [
       "Dortmund    42\n",
       "Bochum      15\n",
       "Arsenal     30\n",
       "dtype: int64"
      ]
     },
     "execution_count": 95,
     "metadata": {},
     "output_type": "execute_result"
    }
   ],
   "source": [
    "data_c[[\"Dortmund\", \"Bochum\", \"Arsenal\"]]"
   ]
  },
  {
   "cell_type": "markdown",
   "id": "65f5dd31-f8d5-46be-95ba-ff0221676b66",
   "metadata": {},
   "source": [
    "\n",
    "Great. Now assuming that we would like to find out if a particular team is part of the series. In this case, we would like to knowif the index is in the series.\n",
    "\n",
    "For instance, we can check if Juventus is part of the teams in the panda series. We can use the script below to check"
   ]
  },
  {
   "cell_type": "code",
   "execution_count": 96,
   "id": "1e641a70-3b73-4abe-b3de-2526afb01858",
   "metadata": {
    "tags": []
   },
   "outputs": [
    {
     "data": {
      "text/plain": [
       "False"
      ]
     },
     "execution_count": 96,
     "metadata": {},
     "output_type": "execute_result"
    }
   ],
   "source": [
    "\"Juventus\" in data_c"
   ]
  },
  {
   "cell_type": "markdown",
   "id": "f28b7d7d-38e7-4df6-87e4-398e9e61d3ff",
   "metadata": {
    "tags": []
   },
   "source": [
    "Python returns false because Juventus is not in the index/series. \n",
    "What if we decide to check if  Arsenal is part of the index/series."
   ]
  },
  {
   "cell_type": "code",
   "execution_count": 97,
   "id": "2485ecd7-7480-489a-9ef5-3989b02556cb",
   "metadata": {
    "tags": []
   },
   "outputs": [
    {
     "data": {
      "text/plain": [
       "True"
      ]
     },
     "execution_count": 97,
     "metadata": {},
     "output_type": "execute_result"
    }
   ],
   "source": [
    "\"Arsenal\" in data_c"
   ]
  },
  {
   "cell_type": "markdown",
   "id": "6241343c-666f-4699-ab25-85542a3ffa46",
   "metadata": {},
   "source": [
    "This indicates that Arsenal is in the Series, since python returns a True. Now assuming we would like to add Juventus to the series and assign 35 points\n",
    "\n",
    "First of all, we create a new single series for Juventus. Then we concatenate (Concatenation means linking items together in a series) to the original series in the steps below."
   ]
  },
  {
   "cell_type": "code",
   "execution_count": 98,
   "id": "83f3a222-4308-4af2-96b7-e5942073ea4e",
   "metadata": {
    "tags": []
   },
   "outputs": [
    {
     "data": {
      "text/plain": [
       "Arsenal       30\n",
       "Chelsea       22\n",
       "Dortmund      42\n",
       "Liverpool     29\n",
       "Bochum        15\n",
       "Schalke_04    15\n",
       "FC_Koln       18\n",
       "Juventus      35\n",
       "dtype: int64"
      ]
     },
     "execution_count": 98,
     "metadata": {},
     "output_type": "execute_result"
    }
   ],
   "source": [
    "new_team = pd.Series([35], index = [\"Juventus\"])\n",
    "\n",
    "data_new = pd.concat([data_c,new_team])\n",
    "data_new"
   ]
  },
  {
   "cell_type": "markdown",
   "id": "1cd370d6-855b-492c-b92a-2ad6b14eab7c",
   "metadata": {
    "tags": []
   },
   "source": [
    "This approach is rather long and can be a little confusing for python newcomers. We can use a simple way to add a new team to the series.\n",
    "Lets ass Manchester City and assign   40 points"
   ]
  },
  {
   "cell_type": "code",
   "execution_count": 99,
   "id": "096132e2-0b77-4d31-9fea-afd728cc55bd",
   "metadata": {
    "tags": []
   },
   "outputs": [
    {
     "data": {
      "text/plain": [
       "Arsenal            30\n",
       "Chelsea            22\n",
       "Dortmund           42\n",
       "Liverpool          29\n",
       "Bochum             15\n",
       "Schalke_04         15\n",
       "FC_Koln            18\n",
       "Juventus           35\n",
       "Manchester_city    30\n",
       "dtype: int64"
      ]
     },
     "execution_count": 99,
     "metadata": {},
     "output_type": "execute_result"
    }
   ],
   "source": [
    "data_new[\"Manchester_city\"] = 30\n",
    "data_new"
   ]
  },
  {
   "cell_type": "markdown",
   "id": "859bc188-a7f4-4b8e-a53a-79aadb466f43",
   "metadata": {},
   "source": [
    "There you go, pretty straight forward and easy.\n",
    "\n",
    "Now assuming we would like to delete/drop one of the rows. Let us choose to drop Bochum from the series"
   ]
  },
  {
   "cell_type": "code",
   "execution_count": 100,
   "id": "d09db5e2-44d4-4427-870b-e75ed29b8d01",
   "metadata": {
    "tags": []
   },
   "outputs": [
    {
     "data": {
      "text/plain": [
       "Arsenal            30\n",
       "Chelsea            22\n",
       "Dortmund           42\n",
       "Liverpool          29\n",
       "Schalke_04         15\n",
       "FC_Koln            18\n",
       "Juventus           35\n",
       "Manchester_city    30\n",
       "dtype: int64"
      ]
     },
     "execution_count": 100,
     "metadata": {},
     "output_type": "execute_result"
    }
   ],
   "source": [
    "data_new = data_new.drop(\"Bochum\")\n",
    "data_new"
   ]
  },
  {
   "cell_type": "markdown",
   "id": "ad24490b-21b0-410a-bb73-1684bdb580dc",
   "metadata": {},
   "source": [
    "As can be seen, Bochum is no longer part of the series\n",
    "\n",
    "Now, assuming we  made a  mistake with one of the indexes. Instead of Leicester, we typed Liverpool. How can we correct this? We can rename the index and replace the old name with the new name"
   ]
  },
  {
   "cell_type": "code",
   "execution_count": 101,
   "id": "47fb1703-50d0-4bd2-976c-185a51bb15b4",
   "metadata": {
    "tags": []
   },
   "outputs": [
    {
     "data": {
      "text/plain": [
       "Arsenal            30\n",
       "Chelsea            22\n",
       "Dortmund           42\n",
       "Leicester          29\n",
       "Schalke_04         15\n",
       "FC_Koln            18\n",
       "Juventus           35\n",
       "Manchester_city    30\n",
       "dtype: int64"
      ]
     },
     "execution_count": 101,
     "metadata": {},
     "output_type": "execute_result"
    }
   ],
   "source": [
    "data_new.rename(index = {\"Liverpool\": \"Leicester\"}, inplace = True)\n",
    "data_new"
   ]
  },
  {
   "cell_type": "markdown",
   "id": "41cc26e9-7ba9-4cbc-9e64-5c3a9dad3fdf",
   "metadata": {},
   "source": [
    "We can do a simple descriptive statistics of our panda series. \n",
    "First, we use the describe function in python and then round to 3 decimal places.\n",
    "\n",
    "The count, mean, median, 25th,50th and 75 percentiles are displayed. we can also see the minimum and maximum points"
   ]
  },
  {
   "cell_type": "code",
   "execution_count": 102,
   "id": "d6591ceb-fb5c-490e-99cc-68267b3b3354",
   "metadata": {
    "tags": []
   },
   "outputs": [
    {
     "data": {
      "text/plain": [
       "count     8.000\n",
       "mean     27.625\n",
       "std       8.927\n",
       "min      15.000\n",
       "25%      21.000\n",
       "50%      29.500\n",
       "75%      31.250\n",
       "max      42.000\n",
       "dtype: float64"
      ]
     },
     "execution_count": 102,
     "metadata": {},
     "output_type": "execute_result"
    }
   ],
   "source": [
    "data_new.describe().round(3)"
   ]
  },
  {
   "cell_type": "markdown",
   "id": "e3594c4c-afaf-43f5-8160-95432bf36c09",
   "metadata": {
    "tags": []
   },
   "source": [
    "Finally, let's give our new series and index name attributes\n",
    "\n"
   ]
  },
  {
   "cell_type": "code",
   "execution_count": 103,
   "id": "09ebd3ed-5fed-419e-87e9-7e344a60c755",
   "metadata": {
    "tags": []
   },
   "outputs": [
    {
     "data": {
      "text/plain": [
       "Teams\n",
       "Arsenal            30\n",
       "Chelsea            22\n",
       "Dortmund           42\n",
       "Leicester          29\n",
       "Schalke_04         15\n",
       "FC_Koln            18\n",
       "Juventus           35\n",
       "Manchester_city    30\n",
       "Name: Football Teams and points, dtype: int64"
      ]
     },
     "execution_count": 103,
     "metadata": {},
     "output_type": "execute_result"
    }
   ],
   "source": [
    "data_new.name = \"Football Teams and points\"\n",
    "data_new.index.name = \"Teams\"\n",
    "\n",
    "data_new"
   ]
  },
  {
   "cell_type": "markdown",
   "id": "b2dba4bb-2ef1-497d-9c9a-18545833dfda",
   "metadata": {},
   "source": [
    "Thats all for Panda Series. Thanks and see you next week!"
   ]
  }
 ],
 "metadata": {
  "kernelspec": {
   "display_name": "Python 3 (ipykernel)",
   "language": "python",
   "name": "python3"
  },
  "language_info": {
   "codemirror_mode": {
    "name": "ipython",
    "version": 3
   },
   "file_extension": ".py",
   "mimetype": "text/x-python",
   "name": "python",
   "nbconvert_exporter": "python",
   "pygments_lexer": "ipython3",
   "version": "3.11.5"
  }
 },
 "nbformat": 4,
 "nbformat_minor": 5
}
